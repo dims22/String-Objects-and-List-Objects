{
 "cells": [
  {
   "cell_type": "markdown",
   "id": "5651b729",
   "metadata": {},
   "source": [
    "# Assignment - String, Objects and List Objects"
   ]
  },
  {
   "cell_type": "markdown",
   "id": "620252d2",
   "metadata": {},
   "source": [
    "#### 1. Create the below pattern using nested for loop in Python.\n",
    "\n",
    "\\* <br>\n",
    "\\*  *<br>\n",
    "\\*  *  *<br>\n",
    "\\*  *  *  *<br>\n",
    "\\*  *  *  *  *<br>\n",
    "\\*  *  *  *<br>\n",
    "\\*  *  *<br>\n",
    "\\*  *<br>\n",
    "\\*<br>"
   ]
  },
  {
   "cell_type": "code",
   "execution_count": 1,
   "id": "72389ca7",
   "metadata": {},
   "outputs": [
    {
     "name": "stdout",
     "output_type": "stream",
     "text": [
      "* \r\n",
      "* * \r\n",
      "* * * \r\n",
      "* * * * \r\n",
      "* * * * * \r\n",
      "* * * * \r\n",
      "* * * \r\n",
      "* * \r\n",
      "* \r\n"
     ]
    }
   ],
   "source": [
    "for i in range(0, 5):\n",
    "    for j in range(0, i+1):\n",
    "        print(\"* \",end=\"\")\n",
    "    print(\"\\r\")\n",
    "\n",
    "for i in range(3, -1, -1):\n",
    "    for j in range(0, i+1):\n",
    "        print(\"* \",end=\"\")\n",
    "    print(\"\\r\")\n",
    "\n",
    "\n",
    "        "
   ]
  },
  {
   "cell_type": "markdown",
   "id": "89058cee",
   "metadata": {},
   "source": [
    "#### 2. Write a Python program to reverse a word after accepting the input from the user."
   ]
  },
  {
   "cell_type": "code",
   "execution_count": 2,
   "id": "fe071cb5",
   "metadata": {},
   "outputs": [
    {
     "name": "stdout",
     "output_type": "stream",
     "text": [
      "Enter a wordineuron\n"
     ]
    }
   ],
   "source": [
    "word = input('Enter a word')"
   ]
  },
  {
   "cell_type": "code",
   "execution_count": 3,
   "id": "2fb24926",
   "metadata": {},
   "outputs": [
    {
     "name": "stdout",
     "output_type": "stream",
     "text": [
      "norueni\n"
     ]
    }
   ],
   "source": [
    "print(word[::-1])"
   ]
  }
 ],
 "metadata": {
  "kernelspec": {
   "display_name": "Python 3 (ipykernel)",
   "language": "python",
   "name": "python3"
  },
  "language_info": {
   "codemirror_mode": {
    "name": "ipython",
    "version": 3
   },
   "file_extension": ".py",
   "mimetype": "text/x-python",
   "name": "python",
   "nbconvert_exporter": "python",
   "pygments_lexer": "ipython3",
   "version": "3.8.11"
  }
 },
 "nbformat": 4,
 "nbformat_minor": 5
}
